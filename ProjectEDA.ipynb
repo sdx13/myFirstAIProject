{
  "nbformat": 4,
  "nbformat_minor": 0,
  "metadata": {
    "colab": {
      "provenance": [],
      "mount_file_id": "1zdD-uOJ6M1J6Zql3exE32M3TW9ku9HBI",
      "authorship_tag": "ABX9TyP/Yx5Brt25peu9JYBKiscf",
      "include_colab_link": true
    },
    "kernelspec": {
      "name": "python3",
      "display_name": "Python 3"
    },
    "language_info": {
      "name": "python"
    }
  },
  "cells": [
    {
      "cell_type": "markdown",
      "metadata": {
        "id": "view-in-github",
        "colab_type": "text"
      },
      "source": [
        "<a href=\"https://colab.research.google.com/github/sdx13/myFirstAIProject/blob/dev/ProjectEDA.ipynb\" target=\"_parent\"><img src=\"https://colab.research.google.com/assets/colab-badge.svg\" alt=\"Open In Colab\"/></a>"
      ]
    },
    {
      "cell_type": "code",
      "execution_count": 6,
      "metadata": {
        "colab": {
          "base_uri": "https://localhost:8080/"
        },
        "id": "EBJ_21PurFYH",
        "outputId": "af7d9a03-f540-4631-8294-8bea548fdf6e"
      },
      "outputs": [
        {
          "output_type": "stream",
          "name": "stdout",
          "text": [
            "<class 'pandas.core.frame.DataFrame'>\n",
            "RangeIndex: 2149 entries, 0 to 2148\n",
            "Data columns (total 35 columns):\n",
            " #   Column                     Non-Null Count  Dtype  \n",
            "---  ------                     --------------  -----  \n",
            " 0   PatientID                  2149 non-null   int64  \n",
            " 1   Age                        2149 non-null   int64  \n",
            " 2   Gender                     2149 non-null   int64  \n",
            " 3   Ethnicity                  2149 non-null   int64  \n",
            " 4   EducationLevel             2149 non-null   int64  \n",
            " 5   BMI                        2149 non-null   float64\n",
            " 6   Smoking                    2149 non-null   int64  \n",
            " 7   AlcoholConsumption         2149 non-null   float64\n",
            " 8   PhysicalActivity           2149 non-null   float64\n",
            " 9   DietQuality                2149 non-null   float64\n",
            " 10  SleepQuality               2149 non-null   float64\n",
            " 11  FamilyHistoryAlzheimers    2149 non-null   int64  \n",
            " 12  CardiovascularDisease      2149 non-null   int64  \n",
            " 13  Diabetes                   2149 non-null   int64  \n",
            " 14  Depression                 2149 non-null   int64  \n",
            " 15  HeadInjury                 2149 non-null   int64  \n",
            " 16  Hypertension               2149 non-null   int64  \n",
            " 17  SystolicBP                 2149 non-null   int64  \n",
            " 18  DiastolicBP                2149 non-null   int64  \n",
            " 19  CholesterolTotal           2149 non-null   float64\n",
            " 20  CholesterolLDL             2149 non-null   float64\n",
            " 21  CholesterolHDL             2149 non-null   float64\n",
            " 22  CholesterolTriglycerides   2149 non-null   float64\n",
            " 23  MMSE                       2149 non-null   float64\n",
            " 24  FunctionalAssessment       2149 non-null   float64\n",
            " 25  MemoryComplaints           2149 non-null   int64  \n",
            " 26  BehavioralProblems         2149 non-null   int64  \n",
            " 27  ADL                        2149 non-null   float64\n",
            " 28  Confusion                  2149 non-null   int64  \n",
            " 29  Disorientation             2149 non-null   int64  \n",
            " 30  PersonalityChanges         2149 non-null   int64  \n",
            " 31  DifficultyCompletingTasks  2149 non-null   int64  \n",
            " 32  Forgetfulness              2149 non-null   int64  \n",
            " 33  Diagnosis                  2149 non-null   int64  \n",
            " 34  DoctorInCharge             2149 non-null   object \n",
            "dtypes: float64(12), int64(22), object(1)\n",
            "memory usage: 587.7+ KB\n",
            "(2149, 35)\n",
            "['PatientID', 'Age', 'Gender', 'Ethnicity', 'EducationLevel', 'BMI', 'Smoking', 'AlcoholConsumption', 'PhysicalActivity', 'DietQuality', 'SleepQuality', 'FamilyHistoryAlzheimers', 'CardiovascularDisease', 'Diabetes', 'Depression', 'HeadInjury', 'Hypertension', 'SystolicBP', 'DiastolicBP', 'CholesterolTotal', 'CholesterolLDL', 'CholesterolHDL', 'CholesterolTriglycerides', 'MMSE', 'FunctionalAssessment', 'MemoryComplaints', 'BehavioralProblems', 'ADL', 'Confusion', 'Disorientation', 'PersonalityChanges', 'DifficultyCompletingTasks', 'Forgetfulness', 'Diagnosis', 'DoctorInCharge']\n",
            "Numerical Columns: Index(['PatientID', 'Age', 'Gender', 'Ethnicity', 'EducationLevel', 'BMI',\n",
            "       'Smoking', 'AlcoholConsumption', 'PhysicalActivity', 'DietQuality',\n",
            "       'SleepQuality', 'FamilyHistoryAlzheimers', 'CardiovascularDisease',\n",
            "       'Diabetes', 'Depression', 'HeadInjury', 'Hypertension', 'SystolicBP',\n",
            "       'DiastolicBP', 'CholesterolTotal', 'CholesterolLDL', 'CholesterolHDL',\n",
            "       'CholesterolTriglycerides', 'MMSE', 'FunctionalAssessment',\n",
            "       'MemoryComplaints', 'BehavioralProblems', 'ADL', 'Confusion',\n",
            "       'Disorientation', 'PersonalityChanges', 'DifficultyCompletingTasks',\n",
            "       'Forgetfulness', 'Diagnosis'],\n",
            "      dtype='object')\n",
            "Categorical Columns: Index(['DoctorInCharge'], dtype='object')\n",
            "Binary Columns: ['Gender', 'Smoking', 'FamilyHistoryAlzheimers', 'CardiovascularDisease', 'Diabetes', 'Depression', 'HeadInjury', 'Hypertension', 'MemoryComplaints', 'BehavioralProblems', 'Confusion', 'Disorientation', 'PersonalityChanges', 'DifficultyCompletingTasks', 'Forgetfulness', 'Diagnosis']\n"
          ]
        }
      ],
      "source": [
        "import numpy as np\n",
        "import pandas as pd\n",
        "import matplotlib.pyplot as plt\n",
        "\n",
        "# Load data\n",
        "df = pd.read_csv(\"/content/drive/MyDrive/Data.csv\")\n",
        "df.info()\n",
        "\n",
        "# Display shape of data\n",
        "print(df.shape)\n",
        "\n",
        "# Print column names\n",
        "print(list(df.columns))\n",
        "\n",
        "# Identify numerical variables\n",
        "numerical_cols = df.select_dtypes(include=[np.number]).columns\n",
        "print(\"Numerical Columns:\", numerical_cols)\n",
        "\n",
        "# Identify categorical variables\n",
        "categorical_cols = df.select_dtypes(include=['object', 'category']).columns\n",
        "print(\"Categorical Columns:\", categorical_cols)\n",
        "\n",
        "# Identify binary variables\n",
        "binary_cols = [col for col in df.columns if df[col].nunique() == 2]\n",
        "print(\"Binary Columns:\", binary_cols)\n"
      ]
    },
    {
      "cell_type": "markdown",
      "source": [],
      "metadata": {
        "id": "1AzipwqUum5Q"
      }
    }
  ]
}